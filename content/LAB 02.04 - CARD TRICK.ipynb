{
  "cells": [
    {
      "cell_type": "markdown",
      "metadata": {
        "id": "kkUK85UM26yZ"
      },
      "source": [
        "# LAB 02.04 - Card trick"
      ]
    },
    {
      "cell_type": "code",
      "execution_count": 1,
      "metadata": {
        "id": "H-zLeMZe26yd",
        "outputId": "114e6bc3-91cc-429d-f2bc-a22dd3aae65d",
        "colab": {
          "base_uri": "https://localhost:8080/",
          "height": 75
        }
      },
      "outputs": [
        {
          "output_type": "display_data",
          "data": {
            "text/plain": [
              "<IPython.core.display.HTML object>"
            ],
            "text/html": [
              "\n",
              "<meta name=\"google-signin-client_id\"\n",
              "      content=\"461673936472-kdjosv61up3ac1ajeuq6qqu72upilmls.apps.googleusercontent.com\"/>\n",
              "<script src=\"https://apis.google.com/js/client:platform.js?onload=google_button_start\"></script>\n",
              "    "
            ]
          },
          "metadata": {}
        },
        {
          "output_type": "stream",
          "name": "stdout",
          "text": [
            "replicating local resources\n"
          ]
        },
        {
          "output_type": "execute_result",
          "data": {
            "text/plain": [
              "<IPython.core.display.HTML object>"
            ],
            "text/html": [
              "<h3>See <a href='https://m5knaekxo6.execute-api.us-west-2.amazonaws.com/dev-v0001/rlxmooc/web/login' target='_blank'>my courses and progress</a></h2>"
            ]
          },
          "metadata": {},
          "execution_count": 1
        }
      ],
      "source": [
        "!wget --no-cache -O init.py -q https://raw.githubusercontent.com/rramosp/ai4eng.v1/main/content/init.py\n",
        "import init; init.init(force_download=False); init.get_weblink()\n"
      ]
    },
    {
      "cell_type": "code",
      "execution_count": 2,
      "metadata": {
        "id": "8RThCmXd26yf",
        "outputId": "7f7582fd-533c-4996-e539-a36e9d249ceb",
        "colab": {
          "base_uri": "https://localhost:8080/",
          "height": 136,
          "referenced_widgets": [
            "5144000ff38c46d48931011ed98e46ea",
            "313b1b09ceec4c21af821ad0d8617809",
            "39400dd813ce4ac88c4957e945cff0f9",
            "d4ad288415514a4fa57f481aee5c1f3b",
            "7c7c6d4ff75349c583ed7dc852cccb05",
            "7618ec366fa4400cb3cb65d661e04bea",
            "47d68659f7484665b718b3af7a26cab6",
            "a453d43460b742768f1aee09c3851765",
            "f2f3c9c04e4948cd8007cc451ea1fda9",
            "87a99932f2d24015b5288376909aa05e",
            "ce283738c0164111a21a49af0389dbaa",
            "3436e38257724d2599f6fc6e79eec360",
            "681edd1545ac47bca892ef7c499a1cac",
            "7847a7ffff7f4c048eca26c94469b432",
            "2758908233924215912deac5123f0ce7",
            "509e54af75344ca8a77298ac58c8cbfe",
            "7812280ef7f24462ab2337bb025b75bb",
            "81312c92c3874c8a8ae95d0840171eaa",
            "8c3a624d37754fef8c5a031746272ac6"
          ]
        }
      },
      "outputs": [
        {
          "output_type": "stream",
          "name": "stdout",
          "text": [
            "logging in as guillermo.sanchez1@udea.edu.co... please wait\n",
            "using course session ai4eng.v1.udea.r3::2024.1\n",
            "success!! you are logged in\n"
          ]
        }
      ],
      "source": [
        "from local.lib.rlxmoocapi import submit, session\n",
        "session.LoginSequence(endpoint=init.endpoint, course_id=init.course_id, lab_id=\"L02.04\", varname=\"student\");"
      ]
    },
    {
      "cell_type": "code",
      "execution_count": 3,
      "metadata": {
        "id": "qnuNQbP826yg"
      },
      "outputs": [],
      "source": [
        "import numpy as np\n",
        "import pandas as pd\n",
        "import itertools"
      ]
    },
    {
      "cell_type": "markdown",
      "metadata": {
        "id": "jK0Zax-o26yh"
      },
      "source": [
        "## Setup\n",
        "\n",
        "make sure to **watch the corresponding video** to understand the card trick.\n",
        "\n",
        "### create a deck for a given configuration\n",
        "\n",
        "The following function returns a list of **card names**. The `shuffle` argument is self evident. We use two letters as an arbitrary card name so that we have enough names for large configurations."
      ]
    },
    {
      "cell_type": "code",
      "execution_count": 4,
      "metadata": {
        "id": "wxQv6iuG26yh"
      },
      "outputs": [],
      "source": [
        "\n",
        "def create_deck(n_heaps, cards_per_heap, shuffle=False):\n",
        "    n_cards = n_heaps * cards_per_heap\n",
        "\n",
        "    chars = [chr(i) for i in np.arange(26)+65]\n",
        "    names = [i+j for i,j in itertools.product(chars, chars)]\n",
        "\n",
        "    assert n_cards < len(names), \"cannot have more than %d cards\"%len(name)\n",
        "\n",
        "    c = np.r_[names[:n_cards]]\n",
        "    if shuffle:\n",
        "        c = np.random.permutation(c)\n",
        "    return c"
      ]
    },
    {
      "cell_type": "code",
      "execution_count": 5,
      "metadata": {
        "id": "j5UpGidG26yi",
        "outputId": "31ab1753-2be3-4a01-d012-8aef112f05de",
        "colab": {
          "base_uri": "https://localhost:8080/"
        }
      },
      "outputs": [
        {
          "output_type": "execute_result",
          "data": {
            "text/plain": [
              "array(['AA', 'AB', 'AC', 'AD', 'AE', 'AF', 'AG', 'AH', 'AI', 'AJ', 'AK',\n",
              "       'AL', 'AM', 'AN', 'AO', 'AP', 'AQ', 'AR', 'AS', 'AT', 'AU', 'AV',\n",
              "       'AW', 'AX', 'AY', 'AZ', 'BA', 'BB', 'BC', 'BD'], dtype='<U2')"
            ]
          },
          "metadata": {},
          "execution_count": 5
        }
      ],
      "source": [
        "create_deck(n_heaps=3, cards_per_heap=10, shuffle=False)"
      ]
    },
    {
      "cell_type": "code",
      "execution_count": 6,
      "metadata": {
        "id": "OblPS7sf26yi",
        "outputId": "b3c567ee-b40a-4fa7-df1c-ab5a715123c7",
        "colab": {
          "base_uri": "https://localhost:8080/"
        }
      },
      "outputs": [
        {
          "output_type": "execute_result",
          "data": {
            "text/plain": [
              "array(['AF', 'AE', 'AH', 'AO', 'AC', 'AK', 'AD', 'AB', 'AN', 'AP', 'AJ',\n",
              "       'AU', 'AI', 'AT', 'AA', 'AQ', 'AG', 'AL', 'AS', 'AM', 'AR'],\n",
              "      dtype='<U2')"
            ]
          },
          "metadata": {},
          "execution_count": 6
        }
      ],
      "source": [
        "create_deck(n_heaps=3, cards_per_heap=7, shuffle=True)"
      ]
    },
    {
      "cell_type": "code",
      "execution_count": 7,
      "metadata": {
        "id": "tNW0JW7t26yj",
        "outputId": "74449eb1-d5a3-4f36-90f5-79ecd09d66b8",
        "colab": {
          "base_uri": "https://localhost:8080/"
        }
      },
      "outputs": [
        {
          "output_type": "execute_result",
          "data": {
            "text/plain": [
              "array(['AH', 'AS', 'AP', 'BB', 'AM', 'AX', 'BD', 'AA', 'AD', 'AG', 'AZ',\n",
              "       'AT', 'AV', 'AJ', 'AC', 'AW', 'AL', 'BC', 'AR', 'AF', 'AY', 'AO',\n",
              "       'AN', 'AU', 'AE', 'AK', 'AB', 'BA', 'AQ', 'AI'], dtype='<U2')"
            ]
          },
          "metadata": {},
          "execution_count": 7
        }
      ],
      "source": [
        "create_deck(n_heaps=3, cards_per_heap=10, shuffle=True)"
      ]
    },
    {
      "cell_type": "markdown",
      "metadata": {
        "id": "0yNdljUJ26yj"
      },
      "source": [
        "### pick a card\n",
        "\n",
        "the following function randomly picks a card from a deck"
      ]
    },
    {
      "cell_type": "code",
      "execution_count": 8,
      "metadata": {
        "id": "bze5hl0-26yj"
      },
      "outputs": [],
      "source": [
        "def pick_card(c):\n",
        "    return np.random.choice(c)"
      ]
    },
    {
      "cell_type": "code",
      "execution_count": 9,
      "metadata": {
        "id": "RzMik1gl26yj",
        "outputId": "21f63897-fda8-45b7-91fe-6f38be5270c7",
        "colab": {
          "base_uri": "https://localhost:8080/",
          "height": 35
        }
      },
      "outputs": [
        {
          "output_type": "execute_result",
          "data": {
            "text/plain": [
              "'AF'"
            ],
            "application/vnd.google.colaboratory.intrinsic+json": {
              "type": "string"
            }
          },
          "metadata": {},
          "execution_count": 9
        }
      ],
      "source": [
        "c = create_deck(n_heaps=3, cards_per_heap=7, shuffle=True)\n",
        "n = pick_card(c)\n",
        "n"
      ]
    },
    {
      "cell_type": "markdown",
      "metadata": {
        "id": "BKE7jQsV26yk"
      },
      "source": [
        "## Task 1. Make the heaps\n",
        "\n",
        "Complete the following funcion so that given desk (as a list returned by `create_deck`) distributes the cards in `n_heaps` according to the procedure of the card trick shown in the video.\n",
        "\n",
        "The heaps must be a list of `n_heaps` lists, each one with `len(c)/n_heaps` card names.\n",
        "\n",
        "`n_heaps` will be an odd number (so that later we can put the chosen heap in the middle of the others), and must be a divisor of the total number of cards in the deck (so that all heaps have the same number of cards)\n",
        "\n",
        "For instance,\n",
        "\n",
        "    >>> n_heaps = 3\n",
        "    >>> c = create_deck(n_heaps=n_heaps, cards_per_heap=7)\n",
        "    >>> h = make_heaps(c, n_heaps)\n",
        "    >>> print(\"deck\", c)\n",
        "    >>> print(\"heaps\")\n",
        "    >>> h   \n",
        "\n",
        "    deck ['AA' 'AB' 'AC' 'AD' 'AE' 'AF' 'AG' 'AH' 'AI' 'AJ' 'AK' 'AL' 'AM' 'AN'\n",
        "     'AO' 'AP' 'AQ' 'AR' 'AS' 'AT' 'AU']\n",
        "    heaps\n",
        "    [['AA', 'AD', 'AG', 'AJ', 'AM', 'AP', 'AS'],\n",
        "     ['AB', 'AE', 'AH', 'AK', 'AN', 'AQ', 'AT'],\n",
        "     ['AC', 'AF', 'AI', 'AL', 'AO', 'AR', 'AU']]\n",
        "  \n",
        "or also\n",
        "\n",
        "    >>> n_heaps = 5\n",
        "    >>> c = create_deck(n_heaps=n_heaps, cards_per_heap=3, shuffle=True)\n",
        "    >>> h = make_heaps(c, n_heaps)\n",
        "    >>> print(\"deck\", c)\n",
        "    >>> print(\"heaps\")\n",
        "    >>> h\n",
        "    \n",
        "    deck ['AA' 'AJ' 'AM' 'AK' 'AH' 'AF' 'AD' 'AN' 'AB' 'AC' 'AG' 'AE' 'AL' 'AI'\n",
        "     'AO']\n",
        "    heaps\n",
        "    [['AA', 'AF', 'AG'],\n",
        "     ['AJ', 'AD', 'AE'],\n",
        "     ['AM', 'AN', 'AL'],\n",
        "     ['AK', 'AB', 'AI'],\n",
        "     ['AH', 'AC', 'AO']]"
      ]
    },
    {
      "cell_type": "code",
      "execution_count": 10,
      "metadata": {
        "id": "Ch7JMvTZ26yk"
      },
      "outputs": [],
      "source": [
        "def make_heaps(c, n_heaps=3):\n",
        "    assert n_heaps%2==1, \"must have an odd number of heaps\"\n",
        "    assert len(c)%n_heaps==0, \"the length of the deck must be a multiple of the number of heaps\"\n",
        "    cards_per_heap = len(c) // n_heaps\n",
        "    heaps = [[] for _ in range(n_heaps)]\n",
        "    for i in range(len(c)):\n",
        "        heap_index = i % n_heaps\n",
        "        heaps[heap_index].append(c[i])\n",
        "    return heaps"
      ]
    },
    {
      "cell_type": "markdown",
      "metadata": {
        "id": "-FDZAQxo26yk"
      },
      "source": [
        "manually check your code"
      ]
    },
    {
      "cell_type": "code",
      "execution_count": 11,
      "metadata": {
        "id": "XBt6b2qL26yk",
        "outputId": "2ff545d9-778c-47e8-bf1e-fa35abe78f3d",
        "colab": {
          "base_uri": "https://localhost:8080/"
        }
      },
      "outputs": [
        {
          "output_type": "stream",
          "name": "stdout",
          "text": [
            "deck ['AA' 'AB' 'AC' 'AD' 'AE' 'AF' 'AG' 'AH' 'AI' 'AJ' 'AK' 'AL' 'AM' 'AN'\n",
            " 'AO' 'AP' 'AQ' 'AR' 'AS' 'AT' 'AU']\n",
            "heaps\n"
          ]
        },
        {
          "output_type": "execute_result",
          "data": {
            "text/plain": [
              "[['AA', 'AD', 'AG', 'AJ', 'AM', 'AP', 'AS'],\n",
              " ['AB', 'AE', 'AH', 'AK', 'AN', 'AQ', 'AT'],\n",
              " ['AC', 'AF', 'AI', 'AL', 'AO', 'AR', 'AU']]"
            ]
          },
          "metadata": {},
          "execution_count": 11
        }
      ],
      "source": [
        "n_heaps = 3\n",
        "c = create_deck(n_heaps=n_heaps, cards_per_heap=7)\n",
        "h = make_heaps(c, n_heaps)\n",
        "\n",
        "print(\"deck\", c)\n",
        "print(\"heaps\")\n",
        "h\n"
      ]
    },
    {
      "cell_type": "code",
      "execution_count": 12,
      "metadata": {
        "id": "ulDnVHsf26yk",
        "outputId": "55478d76-86b5-4475-99cb-89992d9b3888",
        "colab": {
          "base_uri": "https://localhost:8080/"
        }
      },
      "outputs": [
        {
          "output_type": "stream",
          "name": "stdout",
          "text": [
            "deck ['AJ' 'AF' 'AC' 'AB' 'AK' 'AG' 'AD' 'AO' 'AN' 'AL' 'AA' 'AH' 'AM' 'AE'\n",
            " 'AI']\n",
            "heaps\n"
          ]
        },
        {
          "output_type": "execute_result",
          "data": {
            "text/plain": [
              "[['AJ', 'AG', 'AA'],\n",
              " ['AF', 'AD', 'AH'],\n",
              " ['AC', 'AO', 'AM'],\n",
              " ['AB', 'AN', 'AE'],\n",
              " ['AK', 'AL', 'AI']]"
            ]
          },
          "metadata": {},
          "execution_count": 12
        }
      ],
      "source": [
        "n_heaps = 5\n",
        "c = create_deck(n_heaps=n_heaps, cards_per_heap=3, shuffle=True)\n",
        "h = make_heaps(c, n_heaps)\n",
        "\n",
        "print(\"deck\", c)\n",
        "print(\"heaps\")\n",
        "h\n"
      ]
    },
    {
      "cell_type": "markdown",
      "metadata": {
        "id": "3cAo9D4126yl"
      },
      "source": [
        "**submit your code**"
      ]
    },
    {
      "cell_type": "code",
      "execution_count": 13,
      "metadata": {
        "scrolled": false,
        "id": "BcwFHXgD26yl",
        "outputId": "fc758f47-14cf-4aa2-f87e-2ec1140c4f69",
        "colab": {
          "base_uri": "https://localhost:8080/",
          "height": 176
        }
      },
      "outputs": [
        {
          "output_type": "display_data",
          "data": {
            "text/plain": [
              "<IPython.core.display.HTML object>"
            ],
            "text/html": [
              "\n",
              "                    <b>task_01 submitted.</b> <b><font color=\"blue\">your grade is 5</font></b> \n",
              "                    <p/><pre>----- grader message -------</pre><br/>testing with 20 random calls<br/><font color='green'><h2>correct</h2></font><pre>----------------------------</pre>\n",
              "                    <p/><p/>\n",
              "                    <div style=\"font-size:10px\"><b>SUBMISSION CODE</b> H23B9reDDeJgVQ4q96iOyiwQ4BpWPge/TRWrLaQj710b6jmJ5PclKPqh+aTArct779JOMrtMsuwdoDJnbsh8Ei9O7qFHy0mZyHpfRF3GCia3F4zy1wXjZVbjlacG+FLLbk4KmPtt9KormtCbSbMCEan6fhsoDA+Mo3d3c+EUn9w=</div>\n",
              "                    "
            ]
          },
          "metadata": {}
        }
      ],
      "source": [
        "student.submit_task(globals(), task_id=\"task_01\");"
      ]
    },
    {
      "cell_type": "code",
      "execution_count": null,
      "metadata": {
        "id": "XKhtlHos26yl"
      },
      "outputs": [],
      "source": []
    },
    {
      "cell_type": "markdown",
      "metadata": {
        "id": "3rIDI-xr26yl"
      },
      "source": [
        "## Task 2: Organize the heaps\n",
        "\n",
        "Complete the following funcion so that given a set of heaps (such as the ones returned by the function of the previous task) and a card name:\n",
        "\n",
        "1. Finds what is the heap that contains the card\n",
        "1. Makes randomly two groups of `n_heaps//2` heaps of the remaining heaps\n",
        "   - if `n_heaps=3` this will be two groups of one heap each, since `3//2=1`\n",
        "   - if `n_heaps=5`, it will be two groups of two heaps each, since `5//2=2`\n",
        "   - etc. (observe `//` is the integer division)\n",
        "1. Concatenates the cards in one group with the cards in the heap containing the given card name. with the cards of the second group\n",
        "\n",
        "For example\n",
        "\n",
        "    >>> n_heaps = 3\n",
        "    >>> c = create_deck(n_heaps=n_heaps, cards_per_heap=7, shuffle=True)\n",
        "    >>> n = pick_card(c)\n",
        "    >>> print (\"card picked\", n)\n",
        "    >>> h = make_heaps(c, n_heaps)\n",
        "    >>> h\n",
        "    \n",
        "    card picked AD\n",
        "    [['AP', 'AC', 'AE', 'AO', 'AQ', 'AF', 'AM'],\n",
        "     ['AN', 'AT', 'AB', 'AJ', 'AU', 'AI', 'AS'],\n",
        "     ['AR', 'AD', 'AA', 'AG', 'AH', 'AL', 'AK']]\n",
        "    \n",
        "    \n",
        "    >>> new_c = collect_heaps(h, n)\n",
        "    >>> print (new_c)\n",
        "    \n",
        "    ['AP', 'AC', 'AE', 'AO', 'AQ', 'AF', 'AM', 'AR', 'AD', 'AA', 'AG', 'AH', 'AL', 'AK', 'AN', 'AT', 'AB', 'AJ', 'AU', 'AI', 'AS']"
      ]
    },
    {
      "cell_type": "code",
      "execution_count": 14,
      "metadata": {
        "id": "yl8qwkUY26yl"
      },
      "outputs": [],
      "source": [
        "def collect_heaps2(h, n):\n",
        "    new_heap = []\n",
        "    index = -1\n",
        "\n",
        "    for i, heap in enumerate(h):\n",
        "        if n in heap:\n",
        "            index = i\n",
        "\n",
        "    if index == 0:\n",
        "        new_heap.extend(h[1])\n",
        "        new_heap.extend(h[index])\n",
        "        new_heap.extend(h[2])\n",
        "    elif index == 1:\n",
        "        new_heap.extend(h[0])\n",
        "        new_heap.extend(h[index])\n",
        "        new_heap.extend(h[2])\n",
        "    else:\n",
        "        new_heap.extend(h[0])\n",
        "        new_heap.extend(h[index])\n",
        "        new_heap.extend(h[1])\n",
        "\n",
        "    return new_heap"
      ]
    },
    {
      "cell_type": "markdown",
      "metadata": {
        "id": "P766RT_J26yl"
      },
      "source": [
        "manually check your code"
      ]
    },
    {
      "cell_type": "code",
      "source": [
        "def collect_heaps1(h, n):\n",
        "    new_heap = []\n",
        "    contiene = []\n",
        "    otra = []\n",
        "    index = -1\n",
        "    for i, heap in enumerate(h):\n",
        "        if n in heap:\n",
        "            index = i\n",
        "            contiene = heap\n",
        "        else:\n",
        "            new_heap.append(heap)\n",
        "    if contiene:\n",
        "        leng = len(h)//2\n",
        "        new_heap.insert(leng, contiene)\n",
        "    otra.extend(new_heap)\n",
        "    return otra\n"
      ],
      "metadata": {
        "id": "p2cSDsv_35rQ"
      },
      "execution_count": 17,
      "outputs": []
    },
    {
      "cell_type": "code",
      "source": [
        "def collect_heaps(h, n):\n",
        "\n",
        "    containing_heap = None\n",
        "    for heap in h:\n",
        "        if n in heap:\n",
        "            containing_heap = heap\n",
        "            break\n",
        "\n",
        "    if containing_heap is None:\n",
        "        raise ValueError(f\"Cata {n} no encontrada en ningún montón.\")\n",
        "\n",
        "\n",
        "    n_groups = len(h) // 2\n",
        "\n",
        "\n",
        "    remaining_heaps = [heap for heap in h if heap != containing_heap]\n",
        "    np.random.shuffle(remaining_heaps)\n",
        "\n",
        "    group1 = remaining_heaps[:n_groups]\n",
        "    group2 = remaining_heaps[n_groups:]\n",
        "\n",
        "\n",
        "    result = []\n",
        "    result.extend(group1)\n",
        "    result.append(containing_heap)\n",
        "    result.extend(group2)\n",
        "\n",
        "    r = [card for heap in result for card in heap]\n",
        "    return r\n"
      ],
      "metadata": {
        "id": "HhxnhCTG3_HH"
      },
      "execution_count": 18,
      "outputs": []
    },
    {
      "cell_type": "code",
      "execution_count": 19,
      "metadata": {
        "id": "L4SGxE4326yl",
        "outputId": "7cff0b51-beb7-4ab4-8188-9de16c0c61d5",
        "colab": {
          "base_uri": "https://localhost:8080/"
        }
      },
      "outputs": [
        {
          "output_type": "stream",
          "name": "stdout",
          "text": [
            "card picked AP\n"
          ]
        },
        {
          "output_type": "execute_result",
          "data": {
            "text/plain": [
              "[['AE', 'AI', 'AT', 'AM', 'AF', 'AN', 'AK'],\n",
              " ['AR', 'AQ', 'AH', 'AD', 'AO', 'AG', 'AL'],\n",
              " ['AU', 'AC', 'AJ', 'AP', 'AS', 'AA', 'AB']]"
            ]
          },
          "metadata": {},
          "execution_count": 19
        }
      ],
      "source": [
        "n_heaps = 3\n",
        "c = create_deck(n_heaps=n_heaps, cards_per_heap=7, shuffle=True)\n",
        "n = pick_card(c)\n",
        "print (\"card picked\", n)\n",
        "h = make_heaps(c, n_heaps)\n",
        "h"
      ]
    },
    {
      "cell_type": "code",
      "execution_count": 20,
      "metadata": {
        "id": "vs2gjBy_26ym",
        "outputId": "f292a417-136c-4d2f-c629-c83b2ea2e918",
        "colab": {
          "base_uri": "https://localhost:8080/"
        }
      },
      "outputs": [
        {
          "output_type": "stream",
          "name": "stdout",
          "text": [
            "['AE', 'AI', 'AT', 'AM', 'AF', 'AN', 'AK', 'AU', 'AC', 'AJ', 'AP', 'AS', 'AA', 'AB', 'AR', 'AQ', 'AH', 'AD', 'AO', 'AG', 'AL']\n"
          ]
        }
      ],
      "source": [
        "new_c = collect_heaps(h, n)\n",
        "print (new_c)"
      ]
    },
    {
      "cell_type": "markdown",
      "metadata": {
        "id": "WNSv7_3N26ym"
      },
      "source": [
        "**submit your code**"
      ]
    },
    {
      "cell_type": "code",
      "execution_count": 21,
      "metadata": {
        "scrolled": false,
        "id": "9ThSDper26ym",
        "outputId": "850bcdb5-ce87-4109-eb94-956bbba03f22",
        "colab": {
          "base_uri": "https://localhost:8080/",
          "height": 176
        }
      },
      "outputs": [
        {
          "output_type": "display_data",
          "data": {
            "text/plain": [
              "<IPython.core.display.HTML object>"
            ],
            "text/html": [
              "\n",
              "                    <b>task_02 submitted.</b> <b><font color=\"blue\">your grade is 5</font></b> \n",
              "                    <p/><pre>----- grader message -------</pre><br/>testing with 20 random calls<br/><font color='green'><h2>correct</h2></font><pre>----------------------------</pre>\n",
              "                    <p/><p/>\n",
              "                    <div style=\"font-size:10px\"><b>SUBMISSION CODE</b> WLL6JJBs6CmEND5pAE1kxJwWCzvdtNwrfWJlIUvMRtxSOGqYz43p/60SgrxVtg+evRkrGT/VV6Y+MxKWLZiXGxa3O9+FyZLnnT/L1tFXFYVAVrYYYsBGSw+0EwZH77a+vusX/unnYK7jrIV93Xi6uqvqFCrZvABCcpppoyPFvNI=</div>\n",
              "                    "
            ]
          },
          "metadata": {}
        }
      ],
      "source": [
        "student.submit_task(globals(), task_id=\"task_02\");"
      ]
    },
    {
      "cell_type": "code",
      "execution_count": null,
      "metadata": {
        "id": "IsDr3Z3I26ym"
      },
      "outputs": [],
      "source": []
    },
    {
      "cell_type": "code",
      "execution_count": null,
      "metadata": {
        "id": "F1J4VKIb26ym"
      },
      "outputs": [],
      "source": []
    },
    {
      "cell_type": "markdown",
      "metadata": {
        "id": "MZYD06oS26ym"
      },
      "source": [
        "## Task 3: Run the card trick\n",
        "\n",
        "Complete the following function such that, when given a a deck of cards `c`, and picked card `n` and a number of heaps `n_heaps`, returns the position of the picked card after doing three times the collect. The position number **must start at zero**.\n",
        "\n",
        "For instance:\n",
        "\n",
        "- For `n_heaps=3` and `cards_per_heap=7`, the final position will always be 10 (which is 11 if you start counting at 1)\n",
        "- For `n_heaps=3` and `cards_per_heap=4`, the final position will be sometimes 5 and sometimes 6 depending on the position of the picked card on the initial deck.\n",
        "- For `n_heaps=5` and `cards_per_heap=3`, the final position will always be 7\n",
        "\n",
        "**You must return an `int`**"
      ]
    },
    {
      "cell_type": "code",
      "execution_count": 22,
      "metadata": {
        "id": "cxamNtOR26ym"
      },
      "outputs": [],
      "source": [
        "def run(c, n, n_heaps=3):\n",
        "    r = None\n",
        "    for _ in range(3):\n",
        "        h = make_heaps(c, n_heaps)\n",
        "        c = collect_heaps(h, n)\n",
        "\n",
        "        # Encuentra la posición de la carta elegida en el nuevo mazo.\n",
        "        r = c.index(n)\n",
        "    return r\n"
      ]
    },
    {
      "cell_type": "markdown",
      "metadata": {
        "id": "H1-GbDBE26ym"
      },
      "source": [
        "manually check your code"
      ]
    },
    {
      "cell_type": "code",
      "execution_count": 23,
      "metadata": {
        "id": "kqrZvmE826yn",
        "outputId": "d5d07f52-8eea-4e9b-9336-bd5f8b20499b",
        "colab": {
          "base_uri": "https://localhost:8080/"
        }
      },
      "outputs": [
        {
          "output_type": "stream",
          "name": "stdout",
          "text": [
            "desk ['AA' 'AB' 'AC' 'AD' 'AE' 'AF' 'AG' 'AH' 'AI' 'AJ' 'AK' 'AL' 'AM' 'AN'\n",
            " 'AO' 'AP' 'AQ' 'AR' 'AS' 'AT' 'AU']\n",
            "position of card AA is 10\n"
          ]
        }
      ],
      "source": [
        "n_heaps = 3\n",
        "c = create_deck(n_heaps=n_heaps, cards_per_heap=7)\n",
        "picked = \"AA\"\n",
        "print (\"desk\", c)\n",
        "pos = run(c, picked, n_heaps=n_heaps)\n",
        "print (\"position of card %s is %d\"%(picked, pos))"
      ]
    },
    {
      "cell_type": "code",
      "execution_count": 24,
      "metadata": {
        "id": "Cbvnthel26yn",
        "outputId": "a55f1a91-ea0b-4c01-b556-a9c1878fdbd8",
        "colab": {
          "base_uri": "https://localhost:8080/"
        }
      },
      "outputs": [
        {
          "output_type": "stream",
          "name": "stdout",
          "text": [
            "deck ['AA' 'AB' 'AC' 'AD' 'AE' 'AF' 'AG' 'AH' 'AI' 'AJ' 'AK' 'AL']\n",
            "position of card AI is 6\n"
          ]
        }
      ],
      "source": [
        "n_heaps = 3\n",
        "c = create_deck(n_heaps=n_heaps, cards_per_heap=4)\n",
        "picked = \"AI\"\n",
        "print (\"deck\", c)\n",
        "pos = run(c, picked, n_heaps=n_heaps)\n",
        "print (\"position of card %s is %d\"%(picked, pos))"
      ]
    },
    {
      "cell_type": "markdown",
      "metadata": {
        "id": "_sNST2E126yn"
      },
      "source": [
        "**submit your code**"
      ]
    },
    {
      "cell_type": "code",
      "execution_count": 25,
      "metadata": {
        "scrolled": false,
        "id": "F5qBdSn-26yn",
        "outputId": "efd2b085-e5c6-457c-dcc1-480eb7a1edf5",
        "colab": {
          "base_uri": "https://localhost:8080/",
          "height": 176
        }
      },
      "outputs": [
        {
          "output_type": "display_data",
          "data": {
            "text/plain": [
              "<IPython.core.display.HTML object>"
            ],
            "text/html": [
              "\n",
              "                    <b>task_03 submitted.</b> <b><font color=\"blue\">your grade is 5</font></b> \n",
              "                    <p/><pre>----- grader message -------</pre><br/>testing with 20 random calls<br/><font color='green'><h2>correct</h2></font><pre>----------------------------</pre>\n",
              "                    <p/><p/>\n",
              "                    <div style=\"font-size:10px\"><b>SUBMISSION CODE</b> em12MnNjAORYIzlZj0w4ChRIqnwOlTuDa/STqw8IKnlFEPiQLhG8ipqO65hPaJIn9hXRxroSPvDLRyngPRP2seEWvMSBfowjR12PkCKO/UaKnGnU1uS5jYkpfM5FF3/AYVcpT2OJyOG5VO2TbDKzwTcYx3KmQwGvfQL/otjb8Os=</div>\n",
              "                    "
            ]
          },
          "metadata": {}
        }
      ],
      "source": [
        "student.submit_task(globals(), task_id=\"task_03\");"
      ]
    },
    {
      "cell_type": "code",
      "execution_count": null,
      "metadata": {
        "id": "DZonRRMU26yn"
      },
      "outputs": [],
      "source": []
    },
    {
      "cell_type": "code",
      "execution_count": null,
      "metadata": {
        "id": "Ruiagdvy26yn"
      },
      "outputs": [],
      "source": []
    },
    {
      "cell_type": "code",
      "execution_count": null,
      "metadata": {
        "id": "T0YzbPV226yn"
      },
      "outputs": [],
      "source": []
    },
    {
      "cell_type": "code",
      "execution_count": null,
      "metadata": {
        "id": "yIxqPHBY26yr"
      },
      "outputs": [],
      "source": []
    },
    {
      "cell_type": "markdown",
      "metadata": {
        "id": "Wm-Dkoyk26yr"
      },
      "source": [
        "## Task 4: Run the trick using the math\n",
        "\n",
        "Given:\n",
        "\n",
        "- $n_h$: A number of heaps\n",
        "- $c_h$: the number of cards per heap\n",
        "- $i$: the position of a card\n",
        "\n",
        "The new position of the card after one cycle of making and collecting the heaps will be:\n",
        "\n",
        "$$c_h(n_h\\div2)+i\\div n_h$$\n",
        "\n",
        "Complete the following function so that it has the same functionality of the previous task, but applying only this formula without using the simulation above. You **MUST NOT ADD** or remove lines from the function skeleton below, **ONLY** fill in the `...`\n",
        "\n",
        "You must get the same results as the previous task.\n",
        "\n",
        "**HINT**: Use `np.argwhere` to get the initial position of the card in the deck"
      ]
    },
    {
      "cell_type": "code",
      "execution_count": 26,
      "metadata": {
        "id": "06hd0saR26ys"
      },
      "outputs": [],
      "source": [
        "def mrun(c, picked_card, n_heaps=3):\n",
        "    assert len(c)%n_heaps==0, \"the number of heaps must be a divisor of the deck length\"\n",
        "\n",
        "    ch = len(c)//n_heaps # cards per heap\n",
        "    nh = n_heaps\n",
        "\n",
        "    i =  np.argwhere(c == picked_card)[0][0] # initial position of the card on the deck c\n",
        "    p1 = (ch * (nh // 2)) + (i // nh)  # the position of the card after the first round\n",
        "    p2 = (ch * (nh // 2)) + (p1 // nh)  # the position of the card after the second round\n",
        "    p3 =  (ch * (nh // 2)) + (p2 // nh) # the position of the card after the last round\n",
        "\n",
        "    return p3"
      ]
    },
    {
      "cell_type": "code",
      "execution_count": null,
      "metadata": {
        "id": "UXdgz6dA26ys"
      },
      "outputs": [],
      "source": []
    },
    {
      "cell_type": "code",
      "execution_count": 27,
      "metadata": {
        "id": "Q5_kNba426ys",
        "outputId": "255e65a3-e97f-4a5d-8c0b-184070e84fe2",
        "colab": {
          "base_uri": "https://localhost:8080/"
        }
      },
      "outputs": [
        {
          "output_type": "stream",
          "name": "stdout",
          "text": [
            "deck ['AA' 'AB' 'AC' 'AD' 'AE' 'AF' 'AG' 'AH' 'AI' 'AJ' 'AK' 'AL']\n",
            "position of card AI is 6\n"
          ]
        }
      ],
      "source": [
        "n_heaps = 3\n",
        "c = create_deck(n_heaps=n_heaps, cards_per_heap=4)\n",
        "picked = \"AI\"\n",
        "print (\"deck\", c)\n",
        "pos = mrun(c, picked, n_heaps=n_heaps)\n",
        "print (\"position of card %s is %d\"%(picked, pos))"
      ]
    },
    {
      "cell_type": "code",
      "execution_count": null,
      "metadata": {
        "id": "iUSvWZog26ys"
      },
      "outputs": [],
      "source": []
    },
    {
      "cell_type": "markdown",
      "metadata": {
        "id": "Hxz2Cr7W26ys"
      },
      "source": [
        "**submit your code**"
      ]
    },
    {
      "cell_type": "code",
      "execution_count": 28,
      "metadata": {
        "scrolled": false,
        "id": "-TBA3a4g26yt",
        "outputId": "aae0c3c3-c974-4606-a38a-4df5d774987e",
        "colab": {
          "base_uri": "https://localhost:8080/",
          "height": 176
        }
      },
      "outputs": [
        {
          "output_type": "display_data",
          "data": {
            "text/plain": [
              "<IPython.core.display.HTML object>"
            ],
            "text/html": [
              "\n",
              "                    <b>task_04 submitted.</b> <b><font color=\"blue\">your grade is 5</font></b> \n",
              "                    <p/><pre>----- grader message -------</pre><br/>testing with 20 random calls<br/><font color='green'><h2>correct</h2></font><pre>----------------------------</pre>\n",
              "                    <p/><p/>\n",
              "                    <div style=\"font-size:10px\"><b>SUBMISSION CODE</b> D3a6NWod0gT0VBkYzIJI8dHAyN2QI5OtLcknmQuFWlOeao1NwxvogE/ghuYMJuLnKBH3FQ/lU3J7QQ8JXcNPeNW1c4EiDA0wCER8or3EEgstU/STsfwM6LX8olMg3lbp6Oz1NERYM6AbKqaWexk/OOVPtZqMQDJaCWlyj3SarTU=</div>\n",
              "                    "
            ]
          },
          "metadata": {}
        }
      ],
      "source": [
        "student.submit_task(globals(), task_id=\"task_04\");"
      ]
    },
    {
      "cell_type": "code",
      "execution_count": null,
      "metadata": {
        "id": "P4XCv1-B26yt"
      },
      "outputs": [],
      "source": []
    },
    {
      "cell_type": "code",
      "execution_count": null,
      "metadata": {
        "id": "0dOKfIbm26yt"
      },
      "outputs": [],
      "source": []
    },
    {
      "cell_type": "code",
      "execution_count": null,
      "metadata": {
        "id": "LhRFFzuV26yt"
      },
      "outputs": [],
      "source": []
    },
    {
      "cell_type": "markdown",
      "metadata": {
        "id": "td5HM92N26yt"
      },
      "source": [
        "## You are done. Now, some considerations\n",
        "\n",
        "### using the math is always faster!!!\n",
        "\n"
      ]
    },
    {
      "cell_type": "code",
      "execution_count": null,
      "metadata": {
        "id": "ZRYnTPh026yv"
      },
      "outputs": [],
      "source": [
        "n_heaps = 3\n",
        "c = create_deck(n_heaps=n_heaps, cards_per_heap=4)\n",
        "picked = \"AI\"\n",
        "print (\"deck\", c)"
      ]
    },
    {
      "cell_type": "code",
      "execution_count": null,
      "metadata": {
        "id": "fi_wGqg326yv"
      },
      "outputs": [],
      "source": [
        "%timeit run(c, picked, n_heaps=n_heaps)"
      ]
    },
    {
      "cell_type": "code",
      "execution_count": null,
      "metadata": {
        "id": "P2o0kULT26yv"
      },
      "outputs": [],
      "source": [
        "%timeit mrun(c, picked, n_heaps=n_heaps)"
      ]
    },
    {
      "cell_type": "markdown",
      "metadata": {
        "id": "O9olE9pe26yw"
      },
      "source": [
        "### you can check if the trick works for a specific configuration"
      ]
    },
    {
      "cell_type": "code",
      "execution_count": null,
      "metadata": {
        "id": "q8Nvutg426yw"
      },
      "outputs": [],
      "source": [
        "n_heaps = 3\n",
        "cards_per_heap = 7\n",
        "\n",
        "c = create_deck(n_heaps, cards_per_heap)\n",
        "\n",
        "r = [[n, mrun(c,n, n_heaps=n_heaps)] for n in c]\n",
        "print (\"deck\", c)\n",
        "pd.DataFrame(r, columns=[\"card picked\", \"final position\"])"
      ]
    },
    {
      "cell_type": "code",
      "execution_count": null,
      "metadata": {
        "id": "0a815Ypn26yw"
      },
      "outputs": [],
      "source": [
        "n_heaps = 3\n",
        "cards_per_heap = 4\n",
        "\n",
        "c = create_deck(n_heaps, cards_per_heap)\n",
        "\n",
        "r = [[n, mrun(c,n, n_heaps=n_heaps)] for n in c]\n",
        "print (\"deck\", c)\n",
        "pd.DataFrame(r, columns=[\"card picked\", \"final position\"])"
      ]
    },
    {
      "cell_type": "code",
      "execution_count": null,
      "metadata": {
        "id": "6uz-zeEY26yw"
      },
      "outputs": [],
      "source": []
    }
  ],
  "metadata": {
    "kernelspec": {
      "display_name": "p38",
      "language": "python",
      "name": "p38"
    },
    "language_info": {
      "codemirror_mode": {
        "name": "ipython",
        "version": 3
      },
      "file_extension": ".py",
      "mimetype": "text/x-python",
      "name": "python",
      "nbconvert_exporter": "python",
      "pygments_lexer": "ipython3",
      "version": "3.8.5"
    },
    "colab": {
      "provenance": []
    },
    "widgets": {
      "application/vnd.jupyter.widget-state+json": {
        "5144000ff38c46d48931011ed98e46ea": {
          "model_module": "@jupyter-widgets/controls",
          "model_name": "HBoxModel",
          "model_module_version": "1.5.0",
          "state": {
            "_dom_classes": [],
            "_model_module": "@jupyter-widgets/controls",
            "_model_module_version": "1.5.0",
            "_model_name": "HBoxModel",
            "_view_count": null,
            "_view_module": "@jupyter-widgets/controls",
            "_view_module_version": "1.5.0",
            "_view_name": "HBoxView",
            "box_style": "",
            "children": [
              "IPY_MODEL_313b1b09ceec4c21af821ad0d8617809",
              "IPY_MODEL_39400dd813ce4ac88c4957e945cff0f9",
              "IPY_MODEL_d4ad288415514a4fa57f481aee5c1f3b",
              "IPY_MODEL_7c7c6d4ff75349c583ed7dc852cccb05"
            ],
            "layout": "IPY_MODEL_7618ec366fa4400cb3cb65d661e04bea"
          }
        },
        "313b1b09ceec4c21af821ad0d8617809": {
          "model_module": "@jupyter-widgets/controls",
          "model_name": "VBoxModel",
          "model_module_version": "1.5.0",
          "state": {
            "_dom_classes": [],
            "_model_module": "@jupyter-widgets/controls",
            "_model_module_version": "1.5.0",
            "_model_name": "VBoxModel",
            "_view_count": null,
            "_view_module": "@jupyter-widgets/controls",
            "_view_module_version": "1.5.0",
            "_view_name": "VBoxView",
            "box_style": "",
            "children": [
              "IPY_MODEL_47d68659f7484665b718b3af7a26cab6",
              "IPY_MODEL_a453d43460b742768f1aee09c3851765"
            ],
            "layout": "IPY_MODEL_f2f3c9c04e4948cd8007cc451ea1fda9"
          }
        },
        "39400dd813ce4ac88c4957e945cff0f9": {
          "model_module": "@jupyter-widgets/controls",
          "model_name": "ButtonModel",
          "model_module_version": "1.5.0",
          "state": {
            "_dom_classes": [
              "login_button"
            ],
            "_model_module": "@jupyter-widgets/controls",
            "_model_module_version": "1.5.0",
            "_model_name": "ButtonModel",
            "_view_count": null,
            "_view_module": "@jupyter-widgets/controls",
            "_view_module_version": "1.5.0",
            "_view_name": "ButtonView",
            "button_style": "",
            "description": "Login with email",
            "disabled": false,
            "icon": "",
            "layout": "IPY_MODEL_87a99932f2d24015b5288376909aa05e",
            "style": "IPY_MODEL_ce283738c0164111a21a49af0389dbaa",
            "tooltip": ""
          }
        },
        "d4ad288415514a4fa57f481aee5c1f3b": {
          "model_module": "@jupyter-widgets/controls",
          "model_name": "HTMLModel",
          "model_module_version": "1.5.0",
          "state": {
            "_dom_classes": [],
            "_model_module": "@jupyter-widgets/controls",
            "_model_module_version": "1.5.0",
            "_model_name": "HTMLModel",
            "_view_count": null,
            "_view_module": "@jupyter-widgets/controls",
            "_view_module_version": "1.5.0",
            "_view_name": "HTMLView",
            "description": "",
            "description_tooltip": null,
            "layout": "IPY_MODEL_3436e38257724d2599f6fc6e79eec360",
            "placeholder": "​",
            "style": "IPY_MODEL_681edd1545ac47bca892ef7c499a1cac",
            "value": "<center><big>or</big></center>"
          }
        },
        "7c7c6d4ff75349c583ed7dc852cccb05": {
          "model_module": "@jupyter-widgets/controls",
          "model_name": "ButtonModel",
          "model_module_version": "1.5.0",
          "state": {
            "_dom_classes": [
              "google_button"
            ],
            "_model_module": "@jupyter-widgets/controls",
            "_model_module_version": "1.5.0",
            "_model_name": "ButtonModel",
            "_view_count": null,
            "_view_module": "@jupyter-widgets/controls",
            "_view_module_version": "1.5.0",
            "_view_name": "ButtonView",
            "button_style": "",
            "description": "Login with Google",
            "disabled": false,
            "icon": "",
            "layout": "IPY_MODEL_7847a7ffff7f4c048eca26c94469b432",
            "style": "IPY_MODEL_2758908233924215912deac5123f0ce7",
            "tooltip": ""
          }
        },
        "7618ec366fa4400cb3cb65d661e04bea": {
          "model_module": "@jupyter-widgets/base",
          "model_name": "LayoutModel",
          "model_module_version": "1.2.0",
          "state": {
            "_model_module": "@jupyter-widgets/base",
            "_model_module_version": "1.2.0",
            "_model_name": "LayoutModel",
            "_view_count": null,
            "_view_module": "@jupyter-widgets/base",
            "_view_module_version": "1.2.0",
            "_view_name": "LayoutView",
            "align_content": null,
            "align_items": null,
            "align_self": null,
            "border": null,
            "bottom": null,
            "display": null,
            "flex": null,
            "flex_flow": null,
            "grid_area": null,
            "grid_auto_columns": null,
            "grid_auto_flow": null,
            "grid_auto_rows": null,
            "grid_column": null,
            "grid_gap": null,
            "grid_row": null,
            "grid_template_areas": null,
            "grid_template_columns": null,
            "grid_template_rows": null,
            "height": null,
            "justify_content": null,
            "justify_items": null,
            "left": null,
            "margin": null,
            "max_height": null,
            "max_width": null,
            "min_height": null,
            "min_width": null,
            "object_fit": null,
            "object_position": null,
            "order": null,
            "overflow": null,
            "overflow_x": null,
            "overflow_y": null,
            "padding": null,
            "right": null,
            "top": null,
            "visibility": null,
            "width": null
          }
        },
        "47d68659f7484665b718b3af7a26cab6": {
          "model_module": "@jupyter-widgets/controls",
          "model_name": "TextModel",
          "model_module_version": "1.5.0",
          "state": {
            "_dom_classes": [],
            "_model_module": "@jupyter-widgets/controls",
            "_model_module_version": "1.5.0",
            "_model_name": "TextModel",
            "_view_count": null,
            "_view_module": "@jupyter-widgets/controls",
            "_view_module_version": "1.5.0",
            "_view_name": "TextView",
            "continuous_update": true,
            "description": "email",
            "description_tooltip": null,
            "disabled": false,
            "layout": "IPY_MODEL_509e54af75344ca8a77298ac58c8cbfe",
            "placeholder": "​",
            "style": "IPY_MODEL_7812280ef7f24462ab2337bb025b75bb",
            "value": ""
          }
        },
        "a453d43460b742768f1aee09c3851765": {
          "model_module": "@jupyter-widgets/controls",
          "model_name": "PasswordModel",
          "model_module_version": "1.5.0",
          "state": {
            "_dom_classes": [],
            "_model_module": "@jupyter-widgets/controls",
            "_model_module_version": "1.5.0",
            "_model_name": "PasswordModel",
            "_view_count": null,
            "_view_module": "@jupyter-widgets/controls",
            "_view_module_version": "1.5.0",
            "_view_name": "PasswordView",
            "continuous_update": true,
            "description": "password",
            "description_tooltip": null,
            "disabled": false,
            "layout": "IPY_MODEL_81312c92c3874c8a8ae95d0840171eaa",
            "placeholder": "​",
            "style": "IPY_MODEL_8c3a624d37754fef8c5a031746272ac6",
            "value": ""
          }
        },
        "f2f3c9c04e4948cd8007cc451ea1fda9": {
          "model_module": "@jupyter-widgets/base",
          "model_name": "LayoutModel",
          "model_module_version": "1.2.0",
          "state": {
            "_model_module": "@jupyter-widgets/base",
            "_model_module_version": "1.2.0",
            "_model_name": "LayoutModel",
            "_view_count": null,
            "_view_module": "@jupyter-widgets/base",
            "_view_module_version": "1.2.0",
            "_view_name": "LayoutView",
            "align_content": null,
            "align_items": null,
            "align_self": null,
            "border": null,
            "bottom": null,
            "display": null,
            "flex": null,
            "flex_flow": null,
            "grid_area": null,
            "grid_auto_columns": null,
            "grid_auto_flow": null,
            "grid_auto_rows": null,
            "grid_column": null,
            "grid_gap": null,
            "grid_row": null,
            "grid_template_areas": null,
            "grid_template_columns": null,
            "grid_template_rows": null,
            "height": null,
            "justify_content": null,
            "justify_items": null,
            "left": null,
            "margin": null,
            "max_height": null,
            "max_width": null,
            "min_height": null,
            "min_width": null,
            "object_fit": null,
            "object_position": null,
            "order": null,
            "overflow": null,
            "overflow_x": null,
            "overflow_y": null,
            "padding": null,
            "right": null,
            "top": null,
            "visibility": null,
            "width": null
          }
        },
        "87a99932f2d24015b5288376909aa05e": {
          "model_module": "@jupyter-widgets/base",
          "model_name": "LayoutModel",
          "model_module_version": "1.2.0",
          "state": {
            "_model_module": "@jupyter-widgets/base",
            "_model_module_version": "1.2.0",
            "_model_name": "LayoutModel",
            "_view_count": null,
            "_view_module": "@jupyter-widgets/base",
            "_view_module_version": "1.2.0",
            "_view_name": "LayoutView",
            "align_content": null,
            "align_items": null,
            "align_self": null,
            "border": null,
            "bottom": null,
            "display": null,
            "flex": null,
            "flex_flow": null,
            "grid_area": null,
            "grid_auto_columns": null,
            "grid_auto_flow": null,
            "grid_auto_rows": null,
            "grid_column": null,
            "grid_gap": null,
            "grid_row": null,
            "grid_template_areas": null,
            "grid_template_columns": null,
            "grid_template_rows": null,
            "height": "53px",
            "justify_content": null,
            "justify_items": null,
            "left": null,
            "margin": null,
            "max_height": null,
            "max_width": null,
            "min_height": null,
            "min_width": null,
            "object_fit": null,
            "object_position": null,
            "order": null,
            "overflow": null,
            "overflow_x": null,
            "overflow_y": null,
            "padding": null,
            "right": null,
            "top": null,
            "visibility": null,
            "width": "150px"
          }
        },
        "ce283738c0164111a21a49af0389dbaa": {
          "model_module": "@jupyter-widgets/controls",
          "model_name": "ButtonStyleModel",
          "model_module_version": "1.5.0",
          "state": {
            "_model_module": "@jupyter-widgets/controls",
            "_model_module_version": "1.5.0",
            "_model_name": "ButtonStyleModel",
            "_view_count": null,
            "_view_module": "@jupyter-widgets/base",
            "_view_module_version": "1.2.0",
            "_view_name": "StyleView",
            "button_color": null,
            "font_weight": ""
          }
        },
        "3436e38257724d2599f6fc6e79eec360": {
          "model_module": "@jupyter-widgets/base",
          "model_name": "LayoutModel",
          "model_module_version": "1.2.0",
          "state": {
            "_model_module": "@jupyter-widgets/base",
            "_model_module_version": "1.2.0",
            "_model_name": "LayoutModel",
            "_view_count": null,
            "_view_module": "@jupyter-widgets/base",
            "_view_module_version": "1.2.0",
            "_view_name": "LayoutView",
            "align_content": null,
            "align_items": null,
            "align_self": null,
            "border": null,
            "bottom": null,
            "display": null,
            "flex": null,
            "flex_flow": null,
            "grid_area": null,
            "grid_auto_columns": null,
            "grid_auto_flow": null,
            "grid_auto_rows": null,
            "grid_column": null,
            "grid_gap": null,
            "grid_row": null,
            "grid_template_areas": null,
            "grid_template_columns": null,
            "grid_template_rows": null,
            "height": null,
            "justify_content": null,
            "justify_items": null,
            "left": null,
            "margin": null,
            "max_height": null,
            "max_width": null,
            "min_height": null,
            "min_width": null,
            "object_fit": null,
            "object_position": null,
            "order": null,
            "overflow": null,
            "overflow_x": null,
            "overflow_y": null,
            "padding": null,
            "right": null,
            "top": null,
            "visibility": null,
            "width": "100px"
          }
        },
        "681edd1545ac47bca892ef7c499a1cac": {
          "model_module": "@jupyter-widgets/controls",
          "model_name": "DescriptionStyleModel",
          "model_module_version": "1.5.0",
          "state": {
            "_model_module": "@jupyter-widgets/controls",
            "_model_module_version": "1.5.0",
            "_model_name": "DescriptionStyleModel",
            "_view_count": null,
            "_view_module": "@jupyter-widgets/base",
            "_view_module_version": "1.2.0",
            "_view_name": "StyleView",
            "description_width": ""
          }
        },
        "7847a7ffff7f4c048eca26c94469b432": {
          "model_module": "@jupyter-widgets/base",
          "model_name": "LayoutModel",
          "model_module_version": "1.2.0",
          "state": {
            "_model_module": "@jupyter-widgets/base",
            "_model_module_version": "1.2.0",
            "_model_name": "LayoutModel",
            "_view_count": null,
            "_view_module": "@jupyter-widgets/base",
            "_view_module_version": "1.2.0",
            "_view_name": "LayoutView",
            "align_content": null,
            "align_items": null,
            "align_self": null,
            "border": null,
            "bottom": null,
            "display": null,
            "flex": null,
            "flex_flow": null,
            "grid_area": null,
            "grid_auto_columns": null,
            "grid_auto_flow": null,
            "grid_auto_rows": null,
            "grid_column": null,
            "grid_gap": null,
            "grid_row": null,
            "grid_template_areas": null,
            "grid_template_columns": null,
            "grid_template_rows": null,
            "height": "53px",
            "justify_content": null,
            "justify_items": null,
            "left": null,
            "margin": null,
            "max_height": null,
            "max_width": null,
            "min_height": null,
            "min_width": null,
            "object_fit": null,
            "object_position": null,
            "order": null,
            "overflow": null,
            "overflow_x": null,
            "overflow_y": null,
            "padding": null,
            "right": null,
            "top": null,
            "visibility": null,
            "width": "200px"
          }
        },
        "2758908233924215912deac5123f0ce7": {
          "model_module": "@jupyter-widgets/controls",
          "model_name": "ButtonStyleModel",
          "model_module_version": "1.5.0",
          "state": {
            "_model_module": "@jupyter-widgets/controls",
            "_model_module_version": "1.5.0",
            "_model_name": "ButtonStyleModel",
            "_view_count": null,
            "_view_module": "@jupyter-widgets/base",
            "_view_module_version": "1.2.0",
            "_view_name": "StyleView",
            "button_color": null,
            "font_weight": ""
          }
        },
        "509e54af75344ca8a77298ac58c8cbfe": {
          "model_module": "@jupyter-widgets/base",
          "model_name": "LayoutModel",
          "model_module_version": "1.2.0",
          "state": {
            "_model_module": "@jupyter-widgets/base",
            "_model_module_version": "1.2.0",
            "_model_name": "LayoutModel",
            "_view_count": null,
            "_view_module": "@jupyter-widgets/base",
            "_view_module_version": "1.2.0",
            "_view_name": "LayoutView",
            "align_content": null,
            "align_items": null,
            "align_self": null,
            "border": null,
            "bottom": null,
            "display": null,
            "flex": null,
            "flex_flow": null,
            "grid_area": null,
            "grid_auto_columns": null,
            "grid_auto_flow": null,
            "grid_auto_rows": null,
            "grid_column": null,
            "grid_gap": null,
            "grid_row": null,
            "grid_template_areas": null,
            "grid_template_columns": null,
            "grid_template_rows": null,
            "height": "25px",
            "justify_content": null,
            "justify_items": null,
            "left": null,
            "margin": null,
            "max_height": null,
            "max_width": null,
            "min_height": null,
            "min_width": null,
            "object_fit": null,
            "object_position": null,
            "order": null,
            "overflow": null,
            "overflow_x": null,
            "overflow_y": null,
            "padding": null,
            "right": null,
            "top": null,
            "visibility": null,
            "width": "300px"
          }
        },
        "7812280ef7f24462ab2337bb025b75bb": {
          "model_module": "@jupyter-widgets/controls",
          "model_name": "DescriptionStyleModel",
          "model_module_version": "1.5.0",
          "state": {
            "_model_module": "@jupyter-widgets/controls",
            "_model_module_version": "1.5.0",
            "_model_name": "DescriptionStyleModel",
            "_view_count": null,
            "_view_module": "@jupyter-widgets/base",
            "_view_module_version": "1.2.0",
            "_view_name": "StyleView",
            "description_width": ""
          }
        },
        "81312c92c3874c8a8ae95d0840171eaa": {
          "model_module": "@jupyter-widgets/base",
          "model_name": "LayoutModel",
          "model_module_version": "1.2.0",
          "state": {
            "_model_module": "@jupyter-widgets/base",
            "_model_module_version": "1.2.0",
            "_model_name": "LayoutModel",
            "_view_count": null,
            "_view_module": "@jupyter-widgets/base",
            "_view_module_version": "1.2.0",
            "_view_name": "LayoutView",
            "align_content": null,
            "align_items": null,
            "align_self": null,
            "border": null,
            "bottom": null,
            "display": null,
            "flex": null,
            "flex_flow": null,
            "grid_area": null,
            "grid_auto_columns": null,
            "grid_auto_flow": null,
            "grid_auto_rows": null,
            "grid_column": null,
            "grid_gap": null,
            "grid_row": null,
            "grid_template_areas": null,
            "grid_template_columns": null,
            "grid_template_rows": null,
            "height": "24px",
            "justify_content": null,
            "justify_items": null,
            "left": null,
            "margin": null,
            "max_height": null,
            "max_width": null,
            "min_height": null,
            "min_width": null,
            "object_fit": null,
            "object_position": null,
            "order": null,
            "overflow": null,
            "overflow_x": null,
            "overflow_y": null,
            "padding": null,
            "right": null,
            "top": null,
            "visibility": null,
            "width": "300px"
          }
        },
        "8c3a624d37754fef8c5a031746272ac6": {
          "model_module": "@jupyter-widgets/controls",
          "model_name": "DescriptionStyleModel",
          "model_module_version": "1.5.0",
          "state": {
            "_model_module": "@jupyter-widgets/controls",
            "_model_module_version": "1.5.0",
            "_model_name": "DescriptionStyleModel",
            "_view_count": null,
            "_view_module": "@jupyter-widgets/base",
            "_view_module_version": "1.2.0",
            "_view_name": "StyleView",
            "description_width": ""
          }
        }
      }
    }
  },
  "nbformat": 4,
  "nbformat_minor": 0
}